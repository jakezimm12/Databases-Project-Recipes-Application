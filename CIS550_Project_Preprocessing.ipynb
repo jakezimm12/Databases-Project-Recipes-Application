{
  "nbformat": 4,
  "nbformat_minor": 0,
  "metadata": {
    "colab": {
      "provenance": []
    },
    "kernelspec": {
      "name": "python3",
      "display_name": "Python 3"
    },
    "language_info": {
      "name": "python"
    }
  },
  "cells": [
    {
      "cell_type": "markdown",
      "source": [
        "## Library"
      ],
      "metadata": {
        "id": "BMPQB6vzsQWO"
      }
    },
    {
      "cell_type": "code",
      "execution_count": null,
      "metadata": {
        "id": "O7H79Krzo62x"
      },
      "outputs": [],
      "source": [
        "import numpy as np\n",
        "import pandas as pd\n",
        "import ast"
      ]
    },
    {
      "cell_type": "markdown",
      "source": [
        "## Load Data"
      ],
      "metadata": {
        "id": "2nIDieD1sSD5"
      }
    },
    {
      "cell_type": "code",
      "source": [
        "! pip install -q kaggle\n",
        "! mkdir ~/.kaggle #creating folder\n",
        "! cp kaggle.json ~/.kaggle/ #copying kaggle.json\n",
        "! chmod 600 ~/.kaggle/kaggle.json #reading the file with full access\n",
        "! kaggle datasets download 'shuyangli94/food-com-recipes-and-user-interactions'\n",
        "! mkdir data\n",
        "! unzip food-com-recipes-and-user-interactions.zip -d data"
      ],
      "metadata": {
        "colab": {
          "base_uri": "https://localhost:8080/"
        },
        "id": "gAFOCgiesmwf",
        "outputId": "5fd9b677-b5f7-471d-cf25-01aef9c9fedf"
      },
      "execution_count": null,
      "outputs": [
        {
          "output_type": "stream",
          "name": "stdout",
          "text": [
            "Downloading food-com-recipes-and-user-interactions.zip to /content\n",
            " 99% 266M/267M [00:09<00:00, 31.9MB/s]\n",
            "100% 267M/267M [00:09<00:00, 29.7MB/s]\n",
            "Archive:  food-com-recipes-and-user-interactions.zip\n",
            "  inflating: data/PP_recipes.csv     \n",
            "  inflating: data/PP_users.csv       \n",
            "  inflating: data/RAW_interactions.csv  \n",
            "  inflating: data/RAW_recipes.csv    \n",
            "  inflating: data/ingr_map.pkl       \n",
            "  inflating: data/interactions_test.csv  \n",
            "  inflating: data/interactions_train.csv  \n",
            "  inflating: data/interactions_validation.csv  \n"
          ]
        }
      ]
    },
    {
      "cell_type": "code",
      "source": [
        "df_recipe_raw = pd.read_csv('data/RAW_recipes.csv')\n",
        "\n",
        "for col in ['tags', 'nutrition', 'steps', 'ingredients']:\n",
        "  df_recipe_raw[col] = df_recipe_raw[col].apply(ast.literal_eval)\n",
        "\n",
        "df_recipe_raw['submitted'] = pd.to_datetime(df_recipe_raw['submitted'])\n",
        "\n",
        "df_recipe_raw = df_recipe_raw.sort_values(by='id')"
      ],
      "metadata": {
        "id": "NIIlYl-_tTJ0"
      },
      "execution_count": null,
      "outputs": []
    },
    {
      "cell_type": "markdown",
      "source": [
        "## Data Preprocessing"
      ],
      "metadata": {
        "id": "8AucTveX6IPe"
      }
    },
    {
      "cell_type": "markdown",
      "source": [
        "### Recipe"
      ],
      "metadata": {
        "id": "1KXjq1lH6TBx"
      }
    },
    {
      "cell_type": "code",
      "source": [
        "df_recipe = df_recipe_raw[[\n",
        "    'id', 'name', 'contributor_id', 'submitted', 'description',\n",
        "    'minutes', 'n_steps', 'n_ingredients',\n",
        "]]"
      ],
      "metadata": {
        "id": "xC8fjFJYt60w"
      },
      "execution_count": null,
      "outputs": []
    },
    {
      "cell_type": "code",
      "source": [
        "df_recipe = df_recipe.rename(columns={\n",
        "    'contributor_id': 'user_id',\n",
        "    'submitted': 'date'\n",
        "})"
      ],
      "metadata": {
        "id": "XKemRIpcuzC8"
      },
      "execution_count": null,
      "outputs": []
    },
    {
      "cell_type": "code",
      "source": [
        "for i, col in enumerate(['calories', 'total_fat', 'sugar',\n",
        "                         'sodium', 'protein', 'saturated_fat']):\n",
        "  df_recipe[col] = df_recipe_raw['nutrition'].apply(lambda x: x[i])"
      ],
      "metadata": {
        "id": "nTNegjnCKLjm"
      },
      "execution_count": null,
      "outputs": []
    },
    {
      "cell_type": "code",
      "source": [
        "df_recipe.columns"
      ],
      "metadata": {
        "colab": {
          "base_uri": "https://localhost:8080/"
        },
        "id": "E4cmxahwWswb",
        "outputId": "f469deea-0f03-4f73-9f85-6633cbaab063"
      },
      "execution_count": null,
      "outputs": [
        {
          "output_type": "execute_result",
          "data": {
            "text/plain": [
              "Index(['id', 'name', 'user_id', 'date', 'description', 'minutes', 'n_steps',\n",
              "       'n_ingredients', 'calories', 'total_fat', 'sugar', 'sodium', 'protein',\n",
              "       'saturated_fat'],\n",
              "      dtype='object')"
            ]
          },
          "metadata": {},
          "execution_count": 150
        }
      ]
    },
    {
      "cell_type": "code",
      "source": [
        "df_recipe = df_recipe.loc[df_recipe['name'].notnull()]"
      ],
      "metadata": {
        "id": "TUKtcIzfgSs_"
      },
      "execution_count": null,
      "outputs": []
    },
    {
      "cell_type": "code",
      "source": [
        "df_recipe['description'] = df_recipe['description'].fillna('')"
      ],
      "metadata": {
        "id": "9LDe68_-gwBR"
      },
      "execution_count": null,
      "outputs": []
    },
    {
      "cell_type": "code",
      "source": [
        "df_recipe['name'] = df_recipe['name'].apply(lambda x: ' '.join([token.capitalize() for token in x.strip().split(' ')]))"
      ],
      "metadata": {
        "id": "c89xQHDlgz5l"
      },
      "execution_count": null,
      "outputs": []
    },
    {
      "cell_type": "code",
      "source": [
        "df_recipe = df_recipe.reset_index(drop=True)"
      ],
      "metadata": {
        "id": "tAVzO5Rwif7X"
      },
      "execution_count": null,
      "outputs": []
    },
    {
      "cell_type": "code",
      "source": [
        "df_recipe = df_recipe.loc[df_recipe['minutes']<=600]"
      ],
      "metadata": {
        "id": "0p94QzuXr4X4"
      },
      "execution_count": null,
      "outputs": []
    },
    {
      "cell_type": "code",
      "source": [
        "df_recipe.to_csv('recipe.csv', index=0)"
      ],
      "metadata": {
        "id": "EGbiXDv7ikPy"
      },
      "execution_count": null,
      "outputs": []
    },
    {
      "cell_type": "markdown",
      "source": [
        "### Rating"
      ],
      "metadata": {
        "id": "e8Vxd3xhVHeR"
      }
    },
    {
      "cell_type": "code",
      "source": [
        "df_rating_raw = pd.read_csv('data/RAW_interactions.csv')\n",
        "df_rating_raw['date'] = pd.to_datetime(df_rating_raw['date'])"
      ],
      "metadata": {
        "id": "wKmZGXxC8cW8"
      },
      "execution_count": null,
      "outputs": []
    },
    {
      "cell_type": "code",
      "source": [
        "df_rating = df_rating_raw.loc[df_rating_raw['recipe_id'].isin(df_recipe['id'].tolist())]"
      ],
      "metadata": {
        "id": "rwD20l_Giml-"
      },
      "execution_count": null,
      "outputs": []
    },
    {
      "cell_type": "code",
      "source": [
        "df_rating['review'] = df_rating['review'].fillna('')"
      ],
      "metadata": {
        "colab": {
          "base_uri": "https://localhost:8080/"
        },
        "id": "y7LqzpsrjNO7",
        "outputId": "56d7f6d8-4207-439d-9da5-3d40d5ec0e6a"
      },
      "execution_count": null,
      "outputs": [
        {
          "output_type": "stream",
          "name": "stderr",
          "text": [
            "<ipython-input-308-3e616f2324c7>:1: SettingWithCopyWarning: \n",
            "A value is trying to be set on a copy of a slice from a DataFrame.\n",
            "Try using .loc[row_indexer,col_indexer] = value instead\n",
            "\n",
            "See the caveats in the documentation: https://pandas.pydata.org/pandas-docs/stable/user_guide/indexing.html#returning-a-view-versus-a-copy\n",
            "  df_rating['review'] = df_rating['review'].fillna('')\n"
          ]
        }
      ]
    },
    {
      "cell_type": "code",
      "source": [
        "df_rating = df_rating.reset_index(drop=True)"
      ],
      "metadata": {
        "id": "1QP6NZVgizty"
      },
      "execution_count": null,
      "outputs": []
    },
    {
      "cell_type": "code",
      "source": [
        "df_rating.to_csv('rating.csv', index=0)"
      ],
      "metadata": {
        "id": "h_bO6boyjTya"
      },
      "execution_count": null,
      "outputs": []
    },
    {
      "cell_type": "markdown",
      "source": [
        "## Ingredients"
      ],
      "metadata": {
        "id": "4RaPdII66VK0"
      }
    },
    {
      "cell_type": "code",
      "source": [
        "import nltk\n",
        "nltk.download('wordnet')\n",
        "\n",
        "from nltk.stem import WordNetLemmatizer"
      ],
      "metadata": {
        "colab": {
          "base_uri": "https://localhost:8080/"
        },
        "id": "J4pIIypMNiy3",
        "outputId": "53d7c7a7-bbe4-4704-de72-61d7f1b3d601"
      },
      "execution_count": null,
      "outputs": [
        {
          "output_type": "stream",
          "name": "stderr",
          "text": [
            "[nltk_data] Downloading package wordnet to /root/nltk_data...\n",
            "[nltk_data]   Package wordnet is already up-to-date!\n"
          ]
        }
      ]
    },
    {
      "cell_type": "code",
      "source": [
        "lemmatizer = WordNetLemmatizer()"
      ],
      "metadata": {
        "id": "zL8kupZwN1Kr"
      },
      "execution_count": null,
      "outputs": []
    },
    {
      "cell_type": "code",
      "source": [
        "ingredients = sorted(df_recipe_raw['ingredients'].explode().unique().tolist())"
      ],
      "metadata": {
        "id": "XwLHAA2jKEv-"
      },
      "execution_count": null,
      "outputs": []
    },
    {
      "cell_type": "code",
      "source": [
        "ingredients_clean = []\n",
        "ingredients_clean_map = {}\n",
        "\n",
        "for ingredient in ingredients:\n",
        "  tokens = ingredient.split(' ')\n",
        "  ingredient_clean = ' '.join([lemmatizer.lemmatize(token) for token in tokens])\n",
        "  ingredients_clean_map[ingredient] = ingredient_clean\n",
        "  ingredients_clean.append(ingredient_clean)"
      ],
      "metadata": {
        "id": "RmPTa9JcN5Af"
      },
      "execution_count": null,
      "outputs": []
    },
    {
      "cell_type": "code",
      "source": [
        "ingredients_clean = sorted(list(set(ingredients_clean)))"
      ],
      "metadata": {
        "id": "-L2RphcPbimn"
      },
      "execution_count": null,
      "outputs": []
    },
    {
      "cell_type": "code",
      "source": [
        "len(ingredients_clean)"
      ],
      "metadata": {
        "colab": {
          "base_uri": "https://localhost:8080/"
        },
        "id": "jXGk9EDfgj-4",
        "outputId": "b820cc04-73a2-4554-821a-0299ea586666"
      },
      "execution_count": null,
      "outputs": [
        {
          "output_type": "execute_result",
          "data": {
            "text/plain": [
              "13755"
            ]
          },
          "metadata": {},
          "execution_count": 89
        }
      ]
    },
    {
      "cell_type": "code",
      "source": [
        "ingredients_map = {}\n",
        "for i, ingredient in enumerate(ingredients_clean):\n",
        "  ingredients_map[ingredient] = i"
      ],
      "metadata": {
        "id": "v31K0WPeb3BP"
      },
      "execution_count": null,
      "outputs": []
    },
    {
      "cell_type": "code",
      "source": [
        "df_ingredient = pd.DataFrame({'id': ingredients_map.values(), 'ingredient': ingredients_map.keys()})"
      ],
      "metadata": {
        "id": "RiRevq3YgKCz"
      },
      "execution_count": null,
      "outputs": []
    },
    {
      "cell_type": "code",
      "source": [
        "df_ingredient.to_csv('ingredient.csv', index=0)"
      ],
      "metadata": {
        "id": "O43uqT1-mvyX"
      },
      "execution_count": null,
      "outputs": []
    },
    {
      "cell_type": "markdown",
      "source": [
        "## Recipe Ingredient"
      ],
      "metadata": {
        "id": "_TvK3GpjoEgp"
      }
    },
    {
      "cell_type": "code",
      "source": [
        "df_recipe_ingredient = df_recipe_raw.set_index('id')['ingredients'].explode()\n",
        "df_recipe_ingredient = pd.DataFrame(df_recipe_ingredient).reset_index()"
      ],
      "metadata": {
        "id": "UR1HyWnGhSpx"
      },
      "execution_count": null,
      "outputs": []
    },
    {
      "cell_type": "code",
      "source": [
        "df_recipe_ingredient['ingredients'] = df_recipe_ingredient['ingredients'].map(ingredients_clean_map)\n",
        "df_recipe_ingredient['ingredients'] = df_recipe_ingredient['ingredients'].map(ingredients_map)"
      ],
      "metadata": {
        "id": "BV1JYnv_hrgf"
      },
      "execution_count": null,
      "outputs": []
    },
    {
      "cell_type": "code",
      "source": [
        "df_recipe_ingredient = df_recipe_ingredient.rename(columns={'id': 'recipe_id', 'ingredients': 'ingredient_id'})"
      ],
      "metadata": {
        "id": "E35GqF996AJM"
      },
      "execution_count": null,
      "outputs": []
    },
    {
      "cell_type": "code",
      "source": [
        "df_recipe_ingredient = df_recipe_ingredient.loc[df_recipe_ingredient['recipe_id'].isin(df_recipe['id'].tolist())]"
      ],
      "metadata": {
        "id": "DjPAgS3TjWoP"
      },
      "execution_count": null,
      "outputs": []
    },
    {
      "cell_type": "code",
      "source": [
        "df_recipe_ingredient = df_recipe_ingredient.reset_index(drop=True)"
      ],
      "metadata": {
        "id": "Hnnr__-8j952"
      },
      "execution_count": null,
      "outputs": []
    },
    {
      "cell_type": "code",
      "source": [
        "df_recipe_ingredient.to_csv('recipe_ingredient.csv', index=0)"
      ],
      "metadata": {
        "id": "zhj4-GNOj_1Y"
      },
      "execution_count": null,
      "outputs": []
    },
    {
      "cell_type": "markdown",
      "source": [
        "### Tags"
      ],
      "metadata": {
        "id": "81J0P_6R7EVF"
      }
    },
    {
      "cell_type": "code",
      "source": [
        "tags = sorted(df_recipe_raw['tags'].explode().unique().tolist())"
      ],
      "metadata": {
        "id": "VPfQYSQJi4ZX"
      },
      "execution_count": null,
      "outputs": []
    },
    {
      "cell_type": "code",
      "source": [
        "tags = tags[1:]"
      ],
      "metadata": {
        "id": "sU-daU7towF4"
      },
      "execution_count": null,
      "outputs": []
    },
    {
      "cell_type": "code",
      "source": [
        "tags_map = {}\n",
        "for i, tag in enumerate(tags):\n",
        "  tags_map[tag] = i"
      ],
      "metadata": {
        "id": "z4vm7-YazmW7"
      },
      "execution_count": null,
      "outputs": []
    },
    {
      "cell_type": "code",
      "source": [
        "df_tag = pd.DataFrame({'id': tags_map.values(), 'tag': tags_map.keys()})"
      ],
      "metadata": {
        "id": "AxSd00OS0oW3"
      },
      "execution_count": null,
      "outputs": []
    },
    {
      "cell_type": "code",
      "source": [
        "df_tag.to_csv('tag.csv', index=0)"
      ],
      "metadata": {
        "id": "Qd3mT4Fyp_Nn"
      },
      "execution_count": null,
      "outputs": []
    },
    {
      "cell_type": "markdown",
      "source": [
        "### Recipe Tag"
      ],
      "metadata": {
        "id": "BPy7J6TCozYb"
      }
    },
    {
      "cell_type": "code",
      "source": [
        "df_recipe_tag = df_recipe_raw.set_index('id')['tags'].explode()"
      ],
      "metadata": {
        "id": "PVbmAoTB1deQ"
      },
      "execution_count": null,
      "outputs": []
    },
    {
      "cell_type": "code",
      "source": [
        "df_recipe_tag = pd.DataFrame(df_recipe_tag).reset_index()"
      ],
      "metadata": {
        "id": "aOM4KYoF1iCp"
      },
      "execution_count": null,
      "outputs": []
    },
    {
      "cell_type": "code",
      "source": [
        "df_recipe_tag = df_recipe_tag.loc[df_recipe_tag['tags']!='']"
      ],
      "metadata": {
        "id": "Zwa7I03ppELP"
      },
      "execution_count": null,
      "outputs": []
    },
    {
      "cell_type": "code",
      "source": [
        "df_recipe_tag['tags'] = df_recipe_tag['tags'].map(tags_map)"
      ],
      "metadata": {
        "id": "QzPCmVtf1nF3"
      },
      "execution_count": null,
      "outputs": []
    },
    {
      "cell_type": "code",
      "source": [
        "df_recipe_tag = df_recipe_tag.rename(columns={'id': 'recipe_id', 'tags': 'tag_id'})"
      ],
      "metadata": {
        "id": "j_gW52i8XvUO"
      },
      "execution_count": null,
      "outputs": []
    },
    {
      "cell_type": "code",
      "source": [
        "df_recipe_tag = df_recipe_tag.loc[df_recipe_tag['recipe_id'].isin(df_recipe['id'].tolist())]"
      ],
      "metadata": {
        "id": "oTMyiDFpkC4b"
      },
      "execution_count": null,
      "outputs": []
    },
    {
      "cell_type": "code",
      "source": [
        "df_recipe_tag = df_recipe_tag.reset_index(drop=True)"
      ],
      "metadata": {
        "id": "ATa1Gw_bkFXC"
      },
      "execution_count": null,
      "outputs": []
    },
    {
      "cell_type": "code",
      "source": [
        "df_recipe_tag.to_csv('recipe_tag.csv', index=0)"
      ],
      "metadata": {
        "id": "86-MgGnikGwO"
      },
      "execution_count": null,
      "outputs": []
    },
    {
      "cell_type": "markdown",
      "source": [
        "### Step"
      ],
      "metadata": {
        "id": "piL8CpRa7jQy"
      }
    },
    {
      "cell_type": "code",
      "source": [
        "df_recipe_step = df_recipe_raw.set_index('id')['steps'].explode()"
      ],
      "metadata": {
        "id": "qvT834hv2jPA"
      },
      "execution_count": null,
      "outputs": []
    },
    {
      "cell_type": "code",
      "source": [
        "df_recipe_step = pd.DataFrame(df_recipe_step).reset_index()"
      ],
      "metadata": {
        "id": "qn6QNXSD5bP5"
      },
      "execution_count": null,
      "outputs": []
    },
    {
      "cell_type": "code",
      "source": [
        "df_recipe_step = df_recipe_step.rename(columns={'steps': 'step'})"
      ],
      "metadata": {
        "id": "9IaPqB-8cTTx"
      },
      "execution_count": null,
      "outputs": []
    },
    {
      "cell_type": "code",
      "source": [
        "df_recipe_step = df_recipe_step.dropna(how='any')"
      ],
      "metadata": {
        "id": "TgrbRjiZek8V"
      },
      "execution_count": null,
      "outputs": []
    },
    {
      "cell_type": "code",
      "source": [
        "df_recipe_step = df_recipe_step.loc[df_recipe_step['step'].str.len() > 2]"
      ],
      "metadata": {
        "id": "_XBpSn5Of4G3"
      },
      "execution_count": null,
      "outputs": []
    },
    {
      "cell_type": "code",
      "source": [
        "df_recipe_step['step_n'] = df_recipe_step.groupby('id').cumcount() + 1"
      ],
      "metadata": {
        "id": "UhMn_GEI3LyI"
      },
      "execution_count": null,
      "outputs": []
    },
    {
      "cell_type": "code",
      "source": [
        "df_recipe_step.to_csv('recipe_step.csv', index=0)"
      ],
      "metadata": {
        "id": "iVpjlPp9eeC-"
      },
      "execution_count": null,
      "outputs": []
    },
    {
      "cell_type": "markdown",
      "source": [
        "### User"
      ],
      "metadata": {
        "id": "lXy-UC_D7nu4"
      }
    },
    {
      "cell_type": "code",
      "source": [
        "user_ids = sorted(list(set(df_recipe_raw['contributor_id'].unique().tolist()\n",
        "+ df_rating_raw['user_id'].unique().tolist())))"
      ],
      "metadata": {
        "id": "VKbdDByY7rRX"
      },
      "execution_count": null,
      "outputs": []
    },
    {
      "cell_type": "code",
      "source": [
        "df_user = pd.DataFrame({'id': user_ids})"
      ],
      "metadata": {
        "id": "VG1mHKgW9ljp"
      },
      "execution_count": null,
      "outputs": []
    },
    {
      "cell_type": "code",
      "source": [
        "df_user.to_csv('user.csv', index=0)"
      ],
      "metadata": {
        "id": "h5U36bAiebVf"
      },
      "execution_count": null,
      "outputs": []
    }
  ]
}